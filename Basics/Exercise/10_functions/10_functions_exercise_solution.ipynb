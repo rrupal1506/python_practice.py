{
  "nbformat": 4,
  "nbformat_minor": 0,
  "metadata": {
    "colab": {
      "provenance": []
    },
    "kernelspec": {
      "name": "python3",
      "display_name": "Python 3"
    },
    "language_info": {
      "name": "python"
    }
  },
  "cells": [
    {
      "cell_type": "markdown",
      "source": [
        "# **Exercise: Functions in python**"
      ],
      "metadata": {
        "id": "PsIsy6VjTHA5"
      }
    },
    {
      "cell_type": "markdown",
      "source": [
        "1.Write a function called calculate_area that takes base and height as an input and returns and area of a triangle. Equation of an area of a triangle is,"
      ],
      "metadata": {
        "id": "ckxJpBRLTNC8"
      }
    },
    {
      "cell_type": "code",
      "source": [
        "area = (1/2)*base*height"
      ],
      "metadata": {
        "id": "O9twukIqVmXy"
      },
      "execution_count": null,
      "outputs": []
    },
    {
      "cell_type": "code",
      "execution_count": 3,
      "metadata": {
        "colab": {
          "base_uri": "https://localhost:8080/"
        },
        "id": "uebwwuriTDB2",
        "outputId": "ff0bda8f-4706-4fb7-f684-82e413b66d7e"
      },
      "outputs": [
        {
          "output_type": "stream",
          "name": "stdout",
          "text": [
            "100.0\n"
          ]
        }
      ],
      "source": [
        "def area_of_triangle(base,height):\n",
        "  area = (1/2)*base*height\n",
        "  return area\n",
        "\n",
        "area = area_of_triangle(10,20)\n",
        "print(area)"
      ]
    },
    {
      "cell_type": "markdown",
      "source": [
        "**Explanation:**\n",
        "The area of a triangle is given by the formula:\n",
        "\n",
        "Area\n",
        "=\n",
        "(1/2)*base * height\n",
        "\n",
        "\n",
        "define this logic inside a function area_of_triangle.\n",
        "\n",
        "call the function with base = 10 and height = 20.\n",
        "\n",
        "It returns 100.0, which is then printed."
      ],
      "metadata": {
        "id": "DrbFsgFBUD7E"
      }
    },
    {
      "cell_type": "markdown",
      "source": [
        "2.Modify above function to take third parameter shape type. It can be either \"triangle\" or \"rectangle\". Based on shape type it will calculate area. Equation of rectangle's area is,"
      ],
      "metadata": {
        "id": "LSjUHWyZT7xB"
      }
    },
    {
      "cell_type": "code",
      "source": [
        "rectangle area=length*width"
      ],
      "metadata": {
        "id": "ukkpg9-MVqMQ"
      },
      "execution_count": null,
      "outputs": []
    },
    {
      "cell_type": "markdown",
      "source": [
        "If no shape is supplied then it should take triangle as a default shape"
      ],
      "metadata": {
        "id": "EFIIdTu2V-Ss"
      }
    },
    {
      "cell_type": "code",
      "source": [
        "def calculate_area(base, height, shape_type):\n",
        "    if shape_type == \"triangle\":\n",
        "        return 0.5 * base * height\n",
        "    elif shape_type == \"rectangle\":\n",
        "        return base * height\n",
        "    else:\n",
        "        return \"Invalid shape type\"\n",
        "\n",
        "# Example usage:\n",
        "print(\"Triangle area:\", calculate_area(10, 5, \"triangle\"))\n",
        "print(\"Rectangle area:\", calculate_area(10, 5, \"rectangle\"))\n"
      ],
      "metadata": {
        "colab": {
          "base_uri": "https://localhost:8080/"
        },
        "id": "p_20k1IxVuFA",
        "outputId": "d78e89e3-af08-40dd-a3d6-7727f5f65d5b"
      },
      "execution_count": 40,
      "outputs": [
        {
          "output_type": "stream",
          "name": "stdout",
          "text": [
            "Triangle area: 25.0\n",
            "Rectangle area: 50\n"
          ]
        }
      ]
    },
    {
      "cell_type": "markdown",
      "source": [
        "**Explanation:**\n",
        "The function calculate_area(base, height, shape_type):\n",
        "\n",
        "Uses if-elif to check the value of shape_type.\n",
        "\n",
        "If it is \"triangle\" → uses formula: 0.5 * base * height\n",
        "\n",
        "If it is \"rectangle\" → uses formula: base * height (length × width)\n",
        "\n",
        "If shape is something else → returns \"Invalid shape type\""
      ],
      "metadata": {
        "id": "27kfWmRfeaFb"
      }
    },
    {
      "cell_type": "markdown",
      "source": [
        "3.Write a function called print_pattern that takes integer number as an argument and prints following pattern if input number is 3,"
      ],
      "metadata": {
        "id": "4AJixy2-V3wP"
      }
    },
    {
      "cell_type": "code",
      "source": [
        "*\n",
        "**\n",
        "***"
      ],
      "metadata": {
        "id": "GMpPgQF8WPK-"
      },
      "execution_count": null,
      "outputs": []
    },
    {
      "cell_type": "code",
      "source": [
        "def print_pattern(n):\n",
        "    # Outer loop for number of rows\n",
        "    for i in range(1, n + 1):\n",
        "        # Inner loop to print stars\n",
        "        for j in range(i):\n",
        "            print(\"*\", end=\"\")\n",
        "        # Move to next line after each row\n",
        "        print()\n",
        "\n",
        "# Example usage\n",
        "print_pattern(3)\n",
        "print()  # for spacing\n",
        "print_pattern(4)"
      ],
      "metadata": {
        "colab": {
          "base_uri": "https://localhost:8080/"
        },
        "id": "hRwQvh1fWpcH",
        "outputId": "02384f2e-aad0-471e-995a-25efcc53e56a"
      },
      "execution_count": 39,
      "outputs": [
        {
          "output_type": "stream",
          "name": "stdout",
          "text": [
            "*\n",
            "**\n",
            "***\n",
            "\n",
            "*\n",
            "**\n",
            "***\n",
            "****\n"
          ]
        }
      ]
    },
    {
      "cell_type": "markdown",
      "source": [
        "**Explanation:**\n",
        "\n",
        "The outer loop (for i in range(1, n + 1)) controls the number of rows.\n",
        "\n",
        "The inner loop (for j in range(i)) prints * equal to the current row number.\n",
        "\n",
        "end=\"\" keeps stars on the same line.\n",
        "\n",
        "print() after the inner loop moves to the next line."
      ],
      "metadata": {
        "id": "_JPFo27uXDmh"
      }
    }
  ]
}