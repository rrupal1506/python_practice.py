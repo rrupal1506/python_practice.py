{
  "nbformat": 4,
  "nbformat_minor": 0,
  "metadata": {
    "colab": {
      "provenance": []
    },
    "kernelspec": {
      "name": "python3",
      "display_name": "Python 3"
    },
    "language_info": {
      "name": "python"
    }
  },
  "cells": [
    {
      "cell_type": "code",
      "execution_count": null,
      "metadata": {
        "id": "dF0ZNi-9rDVq"
      },
      "outputs": [],
      "source": []
    },
    {
      "cell_type": "markdown",
      "source": [
        "**Exercise: Python Variables**"
      ],
      "metadata": {
        "id": "kMjlZxigrEjd"
      }
    },
    {
      "cell_type": "markdown",
      "source": [
        "1. Create a variable called break and assign it a value 5. See what happens and find out the reason behind the behavior that you see.\n"
      ],
      "metadata": {
        "id": "tV7xF5IIrdf0"
      }
    },
    {
      "cell_type": "code",
      "source": [
        "break=5"
      ],
      "metadata": {
        "colab": {
          "base_uri": "https://localhost:8080/",
          "height": 106
        },
        "id": "T3rpKQaarlkH",
        "outputId": "e46fcaf4-79cf-4d0d-efa0-9c3555fb3eb6"
      },
      "execution_count": null,
      "outputs": [
        {
          "output_type": "error",
          "ename": "SyntaxError",
          "evalue": "invalid syntax (<ipython-input-1-7abc8ab243ff>, line 1)",
          "traceback": [
            "\u001b[0;36m  File \u001b[0;32m\"<ipython-input-1-7abc8ab243ff>\"\u001b[0;36m, line \u001b[0;32m1\u001b[0m\n\u001b[0;31m    break=5\u001b[0m\n\u001b[0m         ^\u001b[0m\n\u001b[0;31mSyntaxError\u001b[0m\u001b[0;31m:\u001b[0m invalid syntax\n"
          ]
        }
      ]
    },
    {
      "cell_type": "markdown",
      "source": [
        "**Reason**: The error occurs because you're trying to assign a value to the reserved keyword break. In Python, break is used to exit a loop prematurely and is not allowed to be used as a variable name. Assigning a value to it (e.g., break = 5) results in a SyntaxError since Python's syntax rules prohibit changing the functionality of its reserved keywords."
      ],
      "metadata": {
        "id": "p5sFKo4yrtZN"
      }
    },
    {
      "cell_type": "markdown",
      "source": [
        "2. Create two variables. One to store your birth year and another one to store current year. Now calculate your age using these two variables\n"
      ],
      "metadata": {
        "id": "rvcEbBKysQJW"
      }
    },
    {
      "cell_type": "code",
      "source": [
        "birthYear=1998\n",
        "currentYear=2025\n",
        "myAge=currentYear-birthYear\n",
        "print(myAge)"
      ],
      "metadata": {
        "colab": {
          "base_uri": "https://localhost:8080/"
        },
        "id": "c13l5vCCsdLU",
        "outputId": "75b31bf2-3caf-4486-8416-959581ab43d1"
      },
      "execution_count": null,
      "outputs": [
        {
          "output_type": "stream",
          "name": "stdout",
          "text": [
            "27\n"
          ]
        }
      ]
    },
    {
      "cell_type": "markdown",
      "source": [
        "**Answer**:The code subtracts birthYear (1998) from currentYear (2025) to calculate age, which is 27, and then prints 27."
      ],
      "metadata": {
        "id": "RP_GkZaIs2oV"
      }
    },
    {
      "cell_type": "markdown",
      "source": [
        "3. Store your first, middle and last name in three different variables and then print your full name using these variables"
      ],
      "metadata": {
        "id": "4k4xJKFItJ79"
      }
    },
    {
      "cell_type": "code",
      "source": [
        "firstName = \"Rupal\"\n",
        "middleName = \"Dharmapal\"\n",
        "lastName =\"Ramteke\"\n",
        "fullName = firstName + \" \" + middleName + \" \" + lastName\n",
        "print(fullName)"
      ],
      "metadata": {
        "colab": {
          "base_uri": "https://localhost:8080/"
        },
        "id": "IVLIJ4RjthdX",
        "outputId": "758a0e9c-3c2b-48a6-de5d-f06c1d16adfa"
      },
      "execution_count": null,
      "outputs": [
        {
          "output_type": "stream",
          "name": "stdout",
          "text": [
            "Rupal Dharmapal Ramteke\n"
          ]
        }
      ]
    },
    {
      "cell_type": "markdown",
      "source": [
        "**Explanation**:The code concatenates three name components—first name, middle name, and last name—by joining them with spaces. This produces the full name \"Rupal Dharmapal Ramteke\", which is printed."
      ],
      "metadata": {
        "id": "oaXLJob-rJ0L"
      }
    },
    {
      "cell_type": "markdown",
      "source": [
        "4. Answer which of these are invalid variable names: _nation 1record record1 record_one record-one record^one continue"
      ],
      "metadata": {
        "id": "MwWQoAQyuaFN"
      }
    },
    {
      "cell_type": "markdown",
      "source": [
        "Let's go through each variable name and explain whether it's valid or invalid:\n",
        "\n",
        "_nation – ✅ Valid\n",
        "\n",
        "Starts with an underscore, which is allowed.\n",
        "\n",
        "1record – ❌ Invalid\n",
        "\n",
        "Variable names cannot start with a digit.\n",
        "\n",
        "record1 – ✅ Valid\n",
        "\n",
        "Starts with a letter, and digits can follow.\n",
        "\n",
        "record_one – ✅ Valid\n",
        "\n",
        "Uses only letters, digits, and underscores.\n",
        "\n",
        "record-one – ❌ Invalid\n",
        "\n",
        "The hyphen - is not allowed in variable names (it's seen as a minus operator).\n",
        "\n",
        "record^one – ❌ Invalid\n",
        "\n",
        "The caret ^ is not allowed in variable names (it's a bitwise operator).\n",
        "\n",
        "continue – ❌ Invalid\n",
        "\n",
        "continue is a Python reserved keyword used to skip to the next iteration in a loop. Keywords can't be used as variable names."
      ],
      "metadata": {
        "id": "8TJXXS7tubbw"
      }
    }
  ]
}