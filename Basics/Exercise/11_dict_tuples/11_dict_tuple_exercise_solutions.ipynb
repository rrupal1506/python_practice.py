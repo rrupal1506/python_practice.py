{
  "nbformat": 4,
  "nbformat_minor": 0,
  "metadata": {
    "colab": {
      "provenance": []
    },
    "kernelspec": {
      "name": "python3",
      "display_name": "Python 3"
    },
    "language_info": {
      "name": "python"
    }
  },
  "cells": [
    {
      "cell_type": "markdown",
      "source": [
        "# **Exercise: Python Dict and Tuples**"
      ],
      "metadata": {
        "id": "5bFvfO87fhws"
      }
    },
    {
      "cell_type": "markdown",
      "source": [
        "1.We have following information on countries and their population (population is in crores),\n",
        "\n",
        "Country\t   Population\n",
        "\n",
        "China\t       143\n",
        "\n",
        "India\t       136\n",
        "\n",
        "USA\t          32\n",
        "\n",
        "Pakistan\t    21\n",
        "\n",
        "\n",
        "\n"
      ],
      "metadata": {
        "id": "qvqt6FmsfmnA"
      }
    },
    {
      "cell_type": "markdown",
      "source": [
        "a.Using above create a dictionary of countries and its population"
      ],
      "metadata": {
        "id": "lDcuFvBigHwb"
      }
    },
    {
      "cell_type": "code",
      "execution_count": null,
      "metadata": {
        "colab": {
          "base_uri": "https://localhost:8080/"
        },
        "id": "eXXBaycKfZEe",
        "outputId": "d091de15-7300-4836-ae27-c80a58e19dde"
      },
      "outputs": [
        {
          "output_type": "stream",
          "name": "stdout",
          "text": [
            "{'china': 143, 'india': 136, 'USA': 32, 'Pakistan': 21}\n"
          ]
        }
      ],
      "source": [
        "d = {\"china\":143,\"india\":136,\"USA\":32,\"Pakistan\":21}\n",
        "print(d)"
      ]
    },
    {
      "cell_type": "markdown",
      "source": [
        "b.Write a program that asks user for three type of inputs,\n",
        "a.print: if user enter print then it should print all countries with their population in this format,\n",
        "\n",
        "china==>143\n",
        "\n",
        "india==>136\n",
        "\n",
        "usa==>32\n",
        "\n",
        "pakistan==>21\n",
        "\n",
        "b.add: if user input add then it should further ask for a country name to add. If country already exist in our dataset then it should print that it exist and do nothing. If it doesn't then it asks for population and add that new country/population in our dictionary and print it\n",
        "\n",
        "c.remove: when user inputs remove it should ask for a country to remove. If country exist in our dictionary then remove it and print new dictionary using format shown above in (a). Else print that country doesn't exist!\n",
        "\n",
        "d.query: on this again ask user for which country he or she wants to query. When user inputs that country it will print population of that country."
      ],
      "metadata": {
        "id": "jESUFmKzg2ok"
      }
    },
    {
      "cell_type": "code",
      "source": [
        "population = {\n",
        "    'china': 143,\n",
        "    'india': 136,\n",
        "    'usa': 32,\n",
        "    'pakistan': 21\n",
        "}\n",
        "\n",
        "def add():\n",
        "    country=input(\"Enter country name to add:\")\n",
        "    country=country.lower()\n",
        "    if country in population:\n",
        "        print(\"Country already exist in our dataset. Terminating\")\n",
        "        return\n",
        "    p=input(f\"Enter population for {country}\")\n",
        "    p=float(p)\n",
        "    population[country]=p # Adds new key value pair to dictionary\n",
        "    print_all()\n",
        "\n",
        "def remove():\n",
        "    country = input(\"Enter country name to remove:\")\n",
        "    country = country.lower()\n",
        "    if country not in population:\n",
        "        print(\"Country doesn't exist in our dataset. Terminating\")\n",
        "        return\n",
        "    del population[country]\n",
        "    print_all()\n",
        "\n",
        "def query():\n",
        "    country = input(\"Enter country name to query:\")\n",
        "    country = country.lower()\n",
        "    if country not in population:\n",
        "        print(\"Country doesn't exist in our dataset. Terminating\")\n",
        "        return\n",
        "    print(f\"Population of {country} is: {population[country]} crore\")\n",
        "\n",
        "def print_all():\n",
        "    for country, p in population.items():\n",
        "        print(f\"{country}==>{p}\")\n",
        "\n",
        "def main():\n",
        "    op=input(\"Enter operation (add, remove, query or print):\")\n",
        "    if op.lower() == 'add':\n",
        "        add()\n",
        "    elif op.lower() == 'remove':\n",
        "        remove()\n",
        "    elif op.lower() == 'query':\n",
        "        query()\n",
        "    elif op.lower() == 'print':\n",
        "        print_all()\n",
        "\n",
        "if __name__ == '__main__':\n",
        "    main()"
      ],
      "metadata": {
        "colab": {
          "base_uri": "https://localhost:8080/"
        },
        "id": "z_LzisbNjsBC",
        "outputId": "817b1bf8-6c28-4e51-9049-51bb6ca63d78"
      },
      "execution_count": 1,
      "outputs": [
        {
          "output_type": "stream",
          "name": "stdout",
          "text": [
            "Enter operation (add, remove, query or print):add\n",
            "Enter country name to add:england\n",
            "Enter population for england345\n",
            "china==>143\n",
            "india==>136\n",
            "usa==>32\n",
            "pakistan==>21\n",
            "england==>345.0\n"
          ]
        }
      ]
    },
    {
      "cell_type": "markdown",
      "source": [
        "**How it works:**\n",
        "Uses a dictionary to store country => population.\n",
        "\n",
        "Based on user input:\n",
        "\n",
        "print → shows all countries and their populations.\n",
        "\n",
        "add → adds a new country if not already present.\n",
        "\n",
        "remove → removes a country if it exists.\n",
        "\n",
        "query → returns the population of the requested country.\n",
        "\n",
        "Handles case-insensitive inputs using .lower().\n",
        "\n"
      ],
      "metadata": {
        "id": "C1Oygtg20YBS"
      }
    },
    {
      "cell_type": "markdown",
      "source": [
        "You are given following list of stocks and their prices in last 3 days,\n",
        "\n",
        "Stock\tPrices\n",
        "\n",
        "info\t[600,630,620]\n",
        "\n",
        "ril\t[1430,1490,1567]\n",
        "\n",
        "mtl\t[234,180,160]\n",
        "\n",
        "Write a program that asks user for operation. Value of operations could be,\n",
        "\n",
        "**print:** When user enters print it should print following,\n",
        "\n",
        "info ==> [600, 630, 620] ==> avg:  616.67\n",
        "\n",
        "ril ==> [1430, 1490, 1567] ==> avg:  1495.67\n",
        "\n",
        "mtl ==> [234, 180, 160] ==> avg:  191.33\n",
        "\n",
        "**add:** When user enters 'add', it asks for stock ticker and price. If stock already exist in your list (like info, ril etc) then it will append the price to the list. Otherwise it will create new entry in your dictionary. For example entering 'tata' and 560 will add tata ==> [560] to the dictionary of stocks."
      ],
      "metadata": {
        "id": "G9o_uvSM2usr"
      }
    },
    {
      "cell_type": "code",
      "source": [
        "import statistics\n",
        "\n",
        "stocks = {\n",
        "    'info': [600,630,620],\n",
        "    'ril': [1430,1490,1567],\n",
        "    'mtl': [234,180,160]\n",
        "}\n",
        "\n",
        "def print_all():\n",
        "    for stock,price_list in stocks.items():\n",
        "        avg = statistics.mean(price_list)\n",
        "        print(f\"{stock} ==> {price_list} ==> avg: \",round(avg,2))\n",
        "\n",
        "\n",
        "def add():\n",
        "    s = input(\"Enter a stock ticker to add:\")\n",
        "    p = input(\"Enter price of this stock:\")\n",
        "    p=float(p)\n",
        "    if s in stocks:\n",
        "        stocks[s].append(p)\n",
        "    else:\n",
        "        stocks[s] = [p]\n",
        "    print_all()\n",
        "\n",
        "\n",
        "def main():\n",
        "    op=input(\"Enter operation (print, add or amend):\")\n",
        "    if op.lower() == 'print':\n",
        "        print_all()\n",
        "    elif op.lower() == 'add':\n",
        "        add()\n",
        "    else:\n",
        "        print(\"Unsupported operation:\",op)\n",
        "\n",
        "if __name__ == '__main__':\n",
        "    main()"
      ],
      "metadata": {
        "colab": {
          "base_uri": "https://localhost:8080/"
        },
        "id": "-TIEsapq0c0o",
        "outputId": "3d3767ad-c061-4f6b-c17d-0f95d6dd4968"
      },
      "execution_count": 3,
      "outputs": [
        {
          "output_type": "stream",
          "name": "stdout",
          "text": [
            "Enter operation (print, add or amend):add\n",
            "Enter a stock ticker to add:gfd\n",
            "Enter price of this stock:678\n",
            "info ==> [600, 630, 620] ==> avg:  616.67\n",
            "ril ==> [1430, 1490, 1567] ==> avg:  1495.67\n",
            "mtl ==> [234, 180, 160] ==> avg:  191.33\n",
            "gfd ==> [678.0] ==> avg:  678.0\n"
          ]
        }
      ]
    },
    {
      "cell_type": "markdown",
      "source": [
        "3.Write circle_calc() function that takes radius of a circle as an input from user and then it calculates and returns area, circumference and diameter. You should get these values in your main program by calling circle_calc function and then print them"
      ],
      "metadata": {
        "id": "MDpDKhAD4QUt"
      }
    },
    {
      "cell_type": "code",
      "source": [
        "import math\n",
        "\n",
        "def circle_calc(radius):\n",
        "    area=math.pi*(radius**2)\n",
        "    circumference=2*math.pi*radius\n",
        "    diameter=2*radius\n",
        "    return area, circumference,diameter\n",
        "\n",
        "if __name__==\"__main__\":\n",
        "    r=input(\"Enter a radius:\")\n",
        "    r=float(r)\n",
        "    area, c, d = circle_calc(r)\n",
        "    print(f\"area {area}, circumference {c}, diameter {d}\")"
      ],
      "metadata": {
        "colab": {
          "base_uri": "https://localhost:8080/"
        },
        "id": "mpjFQCbB4Xp0",
        "outputId": "2d426575-ef59-43c4-cfe0-3cbdf91c4e43"
      },
      "execution_count": 4,
      "outputs": [
        {
          "output_type": "stream",
          "name": "stdout",
          "text": [
            "Enter a radius:5\n",
            "area 78.53981633974483, circumference 31.41592653589793, diameter 10.0\n"
          ]
        }
      ]
    }
  ]
}