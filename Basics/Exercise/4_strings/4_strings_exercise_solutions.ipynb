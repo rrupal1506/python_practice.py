{
  "nbformat": 4,
  "nbformat_minor": 0,
  "metadata": {
    "colab": {
      "provenance": []
    },
    "kernelspec": {
      "name": "python3",
      "display_name": "Python 3"
    },
    "language_info": {
      "name": "python"
    }
  },
  "cells": [
    {
      "cell_type": "markdown",
      "source": [
        "# **Exercise: String in Python**"
      ],
      "metadata": {
        "id": "wWdZb5sDGkVU"
      }
    },
    {
      "cell_type": "markdown",
      "source": [
        "1.Create 3 variables to store street, city and country, now create address variable to store entire address. Use two ways of creating this variable, one using + operator and the other using f-string. Now Print the address in such a way that the street, city and country prints in a separate line."
      ],
      "metadata": {
        "id": "HyF752biHTy4"
      }
    },
    {
      "cell_type": "code",
      "execution_count": 6,
      "metadata": {
        "colab": {
          "base_uri": "https://localhost:8080/"
        },
        "id": "pmUMronzEofB",
        "outputId": "7a58ae98-cf82-475a-ef9e-dfd8f01f2aa0"
      },
      "outputs": [
        {
          "output_type": "stream",
          "name": "stdout",
          "text": [
            "using + operation: 24\n",
            "Nagpur\n",
            "india\n",
            "My full address is:24,city i lived in is:Nagpur,and im from:india\n"
          ]
        }
      ],
      "source": [
        "street = 24\n",
        "city =\"Nagpur\"\n",
        "country=\"india\"\n",
        "address = str(street) + \"\\n\" + city + \"\\n\" + country\n",
        "print(\"using + operation:\" ,address)\n",
        "\n",
        "print(f\"My full address is:{street},city i lived in is:{city},and im from:{country}\")"
      ]
    },
    {
      "cell_type": "markdown",
      "source": [
        "**Explanation**:**Using + operator:**\n",
        "\n",
        "The + operator joins strings.\n",
        "\n",
        "\"\\n\" adds a new line, so each part of the address prints on a separate line.\n",
        "\n",
        "# **Using f-string:**\n",
        "\n",
        "f-strings allow you to embed variables directly inside a string using {}.\n",
        "\n",
        "f\"{street}\\n{city}\\n{country}\" does the same as above, but it's cleaner and easier to read."
      ],
      "metadata": {
        "id": "JRYTIFyrKuUx"
      }
    },
    {
      "cell_type": "markdown",
      "source": [
        "2.Create a variable to store the string \"Earth revolves around the sun\"\n",
        "\n",
        "Print \"revolves\" using slice operator\n",
        "\n",
        "Print \"sun\" using negative index"
      ],
      "metadata": {
        "id": "CAxSd-1wLQ3k"
      }
    },
    {
      "cell_type": "code",
      "source": [
        "sentence = \"Earth revolves around the sun\"\n",
        "\n",
        "# Print \"revolves\" using slice operator\n",
        "print(sentence[6:14])\n",
        "\n",
        "# Print \"sun\" using negative indexing\n",
        "print(sentence[-3:])"
      ],
      "metadata": {
        "colab": {
          "base_uri": "https://localhost:8080/"
        },
        "id": "U3M36AP6Lzml",
        "outputId": "fb213e93-4997-4957-cd25-1380c3166f7c"
      },
      "execution_count": 8,
      "outputs": [
        {
          "output_type": "stream",
          "name": "stdout",
          "text": [
            "revolves\n",
            "sun\n"
          ]
        }
      ]
    },
    {
      "cell_type": "markdown",
      "source": [
        "**Explanation:**\n",
        "sentence[6:14]\n",
        "\n",
        "This slices the string from index 6 up to (but not including) index 14.\n",
        "\n",
        "It gives: \"revolves\"\n",
        "\n",
        "sentence[-3:]\n",
        "\n",
        "Negative indexing starts from the end of the string.\n",
        "\n",
        "-3: means from the third character from the end to the end.\n",
        "\n",
        "It gives: \"sun\""
      ],
      "metadata": {
        "id": "I1iZNgzmNZMY"
      }
    },
    {
      "cell_type": "markdown",
      "source": [
        "3.Create two variables to store how many fruits and vegetables you eat in a day. Now Print \"I eat x veggies and y fruits daily\" where x and y presents vegetables and fruits that you eat everyday. Use python f string for this."
      ],
      "metadata": {
        "id": "EQ2R68e2NjH8"
      }
    },
    {
      "cell_type": "code",
      "source": [
        "fruits = 2\n",
        "vegetables = 3\n",
        "\n",
        "print(f\"I eat {vegetables} veggies and {fruits} fruits daily\")"
      ],
      "metadata": {
        "colab": {
          "base_uri": "https://localhost:8080/"
        },
        "id": "F-UalNVdNpWm",
        "outputId": "c5e5970d-7a01-40cd-b5d8-119835122da1"
      },
      "execution_count": 9,
      "outputs": [
        {
          "output_type": "stream",
          "name": "stdout",
          "text": [
            "I eat 3 veggies and 2 fruits daily\n"
          ]
        }
      ]
    },
    {
      "cell_type": "markdown",
      "source": [
        "**Explanation:**\n",
        "\n",
        "fruits = 2\n",
        "\n",
        "stores how many fruits you eat daily.\n",
        "\n",
        "vegetables = 3\n",
        "\n",
        "stores how many vegetables you eat daily.\n",
        "\n",
        "The f-string lets you insert variables directly into the string using {}.\n",
        "\n"
      ],
      "metadata": {
        "id": "MEprQw-MN4OH"
      }
    },
    {
      "cell_type": "markdown",
      "source": [
        "4.I have a string variable called s='maine 200 banana khaye'. This of course is a wrong statement, the correct statement is 'maine 10 samosa khaye'. Replace incorrect words in original strong with new ones and print the new string. Also try to do this in one line."
      ],
      "metadata": {
        "id": "eb-neHDbOEGu"
      }
    },
    {
      "cell_type": "code",
      "source": [
        "s = 'maine 200 banana khaye'\n",
        "s = s.replace(\"200\" , \"10\").replace('banana' , 'samosa')\n",
        "print(s)\n"
      ],
      "metadata": {
        "colab": {
          "base_uri": "https://localhost:8080/"
        },
        "id": "G29vvU0HOKrh",
        "outputId": "93f9e52b-5848-40ab-b97a-7b573a5e3b35"
      },
      "execution_count": 11,
      "outputs": [
        {
          "output_type": "stream",
          "name": "stdout",
          "text": [
            "maine 10 samosa khaye\n"
          ]
        }
      ]
    },
    {
      "cell_type": "markdown",
      "source": [
        "**Explanation:**\n",
        "\n",
        "s.replace(\"200\", \"10\") replaces \"200\" with \"10\".\n",
        "\n",
        "Chaining .replace() lets you do multiple replacements in one line.\n",
        "\n",
        "Final output:\n",
        "\n",
        " maine 10 samosa khaye\n"
      ],
      "metadata": {
        "id": "WfDzE-yOPAO-"
      }
    }
  ]
}