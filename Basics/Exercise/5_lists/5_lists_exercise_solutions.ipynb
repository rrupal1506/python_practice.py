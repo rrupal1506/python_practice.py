{
  "nbformat": 4,
  "nbformat_minor": 0,
  "metadata": {
    "colab": {
      "provenance": []
    },
    "kernelspec": {
      "name": "python3",
      "display_name": "Python 3"
    },
    "language_info": {
      "name": "python"
    }
  },
  "cells": [
    {
      "cell_type": "markdown",
      "source": [
        "# **Exercise: Python Lists**"
      ],
      "metadata": {
        "id": "6cCW1Oz8gFww"
      }
    },
    {
      "cell_type": "markdown",
      "source": [
        "1.Let us say your expense for every month are listed below,\n",
        "\n",
        "January - 2200\n",
        "\n",
        "February - 2350\n",
        "\n",
        "March - 2600\n",
        "\n",
        "April - 2130\n",
        "\n",
        "May - 2190\n",
        "\n",
        "Create a list to store these monthly expenses and using that find out,\n",
        "\n",
        "1. In Feb, how many dollars you spent extra compare to January?\n",
        "2. Find out your total expense in first quarter (first three months) of the year.\n",
        "3. Find out if you spent exactly 2000 dollars in any month\n",
        "4. June month just finished and your expense is 1980 dollar. Add this item to our monthly expense list\n",
        "5. You returned an item that you bought in a month of April and\n",
        "got a refund of 200$. Make a correction to your monthly expense list\n",
        "based on this"
      ],
      "metadata": {
        "id": "vWSYW7IogPwH"
      }
    },
    {
      "cell_type": "code",
      "execution_count": 2,
      "metadata": {
        "colab": {
          "base_uri": "https://localhost:8080/"
        },
        "id": "GZimmogPfx2N",
        "outputId": "80a12abd-6fa1-4f74-f025-d2e455819cd5"
      },
      "outputs": [
        {
          "output_type": "stream",
          "name": "stdout",
          "text": [
            "the dollor spent extra compare to january is: 150\n",
            "the total expense in first quarter is 7150\n",
            "Did I spend 2000$ in any month? False\n",
            "the june expense is: [2200, 2350, 2600, 2130, 2190, 1980]\n",
            "the april expense is: [2200, 2350, 2600, 1930, 2190, 1980]\n"
          ]
        }
      ],
      "source": [
        "expenses = [2200, 2350, 2600, 2130, 2190]\n",
        "#how many dollors you spent extra compare to january?\n",
        "print(\"the dollor spent extra compare to january is:\",expenses[1]-expenses[0])\n",
        "#Find out your total expense in first quarter (first three months) of the year.\n",
        "print(\"the total expense in first quarter is\",expenses[0]+expenses[1]+expenses[2])\n",
        "#Find out if you spent exactly 2000 dollars in any month\n",
        "print(\"Did I spend 2000$ in any month?\",2000 in expenses)\n",
        "#June month just finished and your expense is 1980 dollar. Add this item to our monthly expense list\n",
        "expenses.append(1980)\n",
        "print(\"the june expense is:\",expenses)\n",
        "#you returned an item that you bought in a month of April and got a refund of 200$. Make a correction to your monthly expense list based on this\n",
        "expenses[3]=expenses[3]-200\n",
        "print(\"the april expense is:\",expenses)\n"
      ]
    },
    {
      "cell_type": "markdown",
      "source": [
        "**Answer:**Extra spent in February compared to January: 150\n",
        "\n",
        "Total expense in first quarter: 7150\n",
        "\n",
        "Did I spend exactly $2000 in any month? False\n",
        "\n",
        "Expenses after adding June: [2200, 2350, 2600, 2130, 2190, 1980]\n",
        "\n",
        "Expenses after April refund: [2200, 2350, 2600, 1930, 2190, 1980]\n",
        "\n",
        "**explanation:**\n",
        "expenses = [2200, 2350, 2600, 2130, 2190]\n",
        "\n",
        "stores monthly expenses from Jan to May.\n",
        "\n",
        "\n",
        "expenses[1] - expenses[0] compares February to January.\n",
        "\n",
        "\n",
        "sum(expenses[0:3]) sums up Jan, Feb, and Mar.\n",
        "\n",
        "\n",
        "2000 in expenses checks if 2000 is present in the list.\n",
        "\n",
        "\n",
        "expenses.append(1980) adds June's expense.\n",
        "\n",
        "\n",
        "expenses[3] = expenses[3] - 200 subtracts $200 refund from April's expense."
      ],
      "metadata": {
        "id": "o29oxulTi_Gd"
      }
    },
    {
      "cell_type": "markdown",
      "source": [
        "2.You have a list of your favourite marvel super heros."
      ],
      "metadata": {
        "id": "MNJZgCCPj3SA"
      }
    },
    {
      "cell_type": "code",
      "source": [
        "heros=['spider man','thor','hulk','iron man','captain america']"
      ],
      "metadata": {
        "id": "jFXWDiKjkDYX"
      },
      "execution_count": null,
      "outputs": []
    },
    {
      "cell_type": "markdown",
      "source": [
        "Using this find out,"
      ],
      "metadata": {
        "id": "RCBWobJzkHSq"
      }
    },
    {
      "cell_type": "code",
      "source": [
        "1. Length of the list\n",
        "2. Add 'black panther' at the end of this list\n",
        "3. You realize that you need to add 'black panther' after 'hulk',\n",
        "   so remove it from the list first and then add it after 'hulk'\n",
        "4. Now you don't like thor and hulk because they get angry easily :)\n",
        "   So you want to remove thor and hulk from list and replace them with doctor strange (because he is cool).\n",
        "   Do that with one line of code.\n",
        "5. Sort the heros list in alphabetical order (Hint. Use dir() functions to list down all functions available in list)"
      ],
      "metadata": {
        "id": "UnlddeetkL_x"
      },
      "execution_count": null,
      "outputs": []
    },
    {
      "cell_type": "code",
      "source": [
        "heros=['spider man','thor','hulk','iron man','captain america']\n",
        "#Length of the list\n",
        "len(heros)\n"
      ],
      "metadata": {
        "colab": {
          "base_uri": "https://localhost:8080/"
        },
        "id": "8uIQZGiCkQAP",
        "outputId": "333b576c-84ea-4360-c572-95144c2c7e85"
      },
      "execution_count": 9,
      "outputs": [
        {
          "output_type": "execute_result",
          "data": {
            "text/plain": [
              "5"
            ]
          },
          "metadata": {},
          "execution_count": 9
        }
      ]
    },
    {
      "cell_type": "markdown",
      "source": [
        "**Explanation:**\n",
        "\n",
        "The list heros contains 5 elements.\n",
        "\n",
        "len(heros) returns the total number of items in the list."
      ],
      "metadata": {
        "id": "S2k8rxWMnRs5"
      }
    },
    {
      "cell_type": "code",
      "source": [
        "#Add 'black panther' at the end of this list\n",
        "heros.append(\"black panther\")\n",
        "print(heros)"
      ],
      "metadata": {
        "colab": {
          "base_uri": "https://localhost:8080/"
        },
        "id": "fslozzK5k4y5",
        "outputId": "26b9060f-2e9d-49c1-d41b-3048f411796e"
      },
      "execution_count": 10,
      "outputs": [
        {
          "output_type": "stream",
          "name": "stdout",
          "text": [
            "['spider man', 'thor', 'hulk', 'iron man', 'captain america', 'black panther']\n"
          ]
        }
      ]
    },
    {
      "cell_type": "markdown",
      "source": [
        "**Explanation:**\n",
        "\n",
        "append(\"black panther\") adds the new hero to the end of the list.\n",
        "\n",
        "The list now contains 6 heroes including \"black panther\" at the last position."
      ],
      "metadata": {
        "id": "-VX_3PLDneBe"
      }
    },
    {
      "cell_type": "code",
      "source": [
        "#You realize that you need to add 'black panther' after 'hulk',so remove it from the list first and then add it after 'hulk'\n",
        "heros = ['spider man', 'thor', 'hulk', 'iron man', 'captain america', 'black panther']\n",
        "heros.remove(\"black panther\")\n",
        "heros.insert(3,\"black panther\")\n",
        "print(heros)"
      ],
      "metadata": {
        "colab": {
          "base_uri": "https://localhost:8080/"
        },
        "id": "MHQJZPryk6vd",
        "outputId": "3be7f0b6-68d7-47cc-cef5-a794bf5fc686"
      },
      "execution_count": 13,
      "outputs": [
        {
          "output_type": "stream",
          "name": "stdout",
          "text": [
            "['spider man', 'thor', 'hulk', 'black panther', 'iron man', 'captain america']\n"
          ]
        }
      ]
    },
    {
      "cell_type": "markdown",
      "source": [
        "**Explanation:**\n",
        "\n",
        "'hulk' is at index 2, so inserting \"black panther\" at index 3 places it right after hulk.\n",
        "\n",
        "First, remove() deletes \"black panther\" from the end.\n",
        "\n",
        "Then insert(3, \"black panther\") places it correctly."
      ],
      "metadata": {
        "id": "50ElONUhnn1w"
      }
    },
    {
      "cell_type": "code",
      "source": [
        "#Now you don't like thor and hulk because they get angry easily :)So you want to remove thor and hulk from list and replace them with doctor strange (because he is cool). Do that with one line of code.\n",
        "heros = ['spider man', 'thor', 'hulk', 'iron man', 'captain america', 'black panther']\n",
        "heros[1:3] = ['doctor strange']\n",
        "print(heros)"
      ],
      "metadata": {
        "colab": {
          "base_uri": "https://localhost:8080/"
        },
        "id": "BRf8ifVallef",
        "outputId": "f15283c5-b4f6-453b-c3bf-3f8f1f791778"
      },
      "execution_count": 14,
      "outputs": [
        {
          "output_type": "stream",
          "name": "stdout",
          "text": [
            "['spider man', 'doctor strange', 'iron man', 'captain america', 'black panther']\n"
          ]
        }
      ]
    },
    {
      "cell_type": "markdown",
      "source": [
        "**Explanation:**\n",
        "\n",
        "heros[1:3] selects the items at index 1 and 2 ('thor' and 'hulk').\n",
        "\n",
        "Replacing that slice with ['doctor strange'] removes both and adds one in their place.\n",
        "\n",
        "Clean, short, and effective!"
      ],
      "metadata": {
        "id": "IIFFAMFCn4U4"
      }
    },
    {
      "cell_type": "code",
      "source": [
        "#Sort the heros list in alphabetical order (Hint. Use dir() functions to list down all functions available in list)\n",
        "heros = ['spider man', 'thor', 'hulk', 'iron man', 'captain america', 'black panther']\n",
        "heros.sort()\n",
        "print(heros)"
      ],
      "metadata": {
        "colab": {
          "base_uri": "https://localhost:8080/"
        },
        "id": "eSJC2MVymcov",
        "outputId": "74e2670d-7335-4edc-eeaa-68bd92d4239c"
      },
      "execution_count": 18,
      "outputs": [
        {
          "output_type": "stream",
          "name": "stdout",
          "text": [
            "['black panther', 'captain america', 'hulk', 'iron man', 'spider man', 'thor']\n"
          ]
        }
      ]
    },
    {
      "cell_type": "markdown",
      "source": [
        "**Explanation:**\n",
        "\n",
        ".sort() is an in-place method that sorts the list in alphabetical order.\n",
        "\n",
        "You can use dir(list) to explore all available methods for list objects, including append, insert, remove, sort, etc."
      ],
      "metadata": {
        "id": "AOkbmMM5oDSm"
      }
    }
  ]
}