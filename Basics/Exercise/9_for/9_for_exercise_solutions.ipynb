{
  "nbformat": 4,
  "nbformat_minor": 0,
  "metadata": {
    "colab": {
      "provenance": []
    },
    "kernelspec": {
      "name": "python3",
      "display_name": "Python 3"
    },
    "language_info": {
      "name": "python"
    }
  },
  "cells": [
    {
      "cell_type": "markdown",
      "source": [
        "# **Exercise: Python for loop**"
      ],
      "metadata": {
        "id": "MaSKaz_er5eI"
      }
    },
    {
      "cell_type": "markdown",
      "source": [
        "1.After flipping a coin 10 times you got this result,"
      ],
      "metadata": {
        "id": "0OakTKUesHN8"
      }
    },
    {
      "cell_type": "code",
      "source": [
        "result = [\"heads\",\"tails\",\"tails\",\"heads\",\"tails\",\"heads\",\"heads\",\"tails\",\"tails\",\"tails\"]"
      ],
      "metadata": {
        "id": "wVTNTccRsQvc"
      },
      "execution_count": null,
      "outputs": []
    },
    {
      "cell_type": "markdown",
      "source": [
        "Using for loop figure out how many times you got heads"
      ],
      "metadata": {
        "id": "NrtB8lMisTtj"
      }
    },
    {
      "cell_type": "code",
      "execution_count": 3,
      "metadata": {
        "colab": {
          "base_uri": "https://localhost:8080/"
        },
        "id": "nPZ8uRrMrxQD",
        "outputId": "d9d67356-6f25-4daf-a7aa-23b0c4b5a5ab"
      },
      "outputs": [
        {
          "output_type": "stream",
          "name": "stdout",
          "text": [
            "heads\n",
            "heads\n",
            "heads\n",
            "heads\n"
          ]
        }
      ],
      "source": [
        "result = [\"heads\",\"tails\",\"tails\",\"heads\",\"tails\",\"heads\",\"heads\",\"tails\",\"tails\",\"tails\"]\n",
        "for i in result:\n",
        "  if i == \"heads\":\n",
        "    print(i)"
      ]
    },
    {
      "cell_type": "markdown",
      "source": [
        "**Explanation:**\n",
        "You loop through each item in the result list.\n",
        "\n",
        "The if i == \"heads\" condition checks for \"heads\" only.\n",
        "\n",
        "It prints \"heads\" each time it matches."
      ],
      "metadata": {
        "id": "Jsyrf1GxyRxb"
      }
    },
    {
      "cell_type": "markdown",
      "source": [
        "2.Print square of all numbers between 1 to 10 except even numbers"
      ],
      "metadata": {
        "id": "hAzFiBU_s3Gd"
      }
    },
    {
      "cell_type": "code",
      "source": [
        "for i in range(1,11):\n",
        "  if i%2 != 0:\n",
        "    print(i*i)"
      ],
      "metadata": {
        "colab": {
          "base_uri": "https://localhost:8080/"
        },
        "id": "jwq4Mbxys8FN",
        "outputId": "dd6b0505-2c35-435f-894b-0d958d665b9b"
      },
      "execution_count": 5,
      "outputs": [
        {
          "output_type": "stream",
          "name": "stdout",
          "text": [
            "1\n",
            "9\n",
            "25\n",
            "49\n",
            "81\n"
          ]
        }
      ]
    },
    {
      "cell_type": "markdown",
      "source": [
        "**Explanation:**\n",
        "range(1, 11) gives numbers from 1 to 10.\n",
        "\n",
        "if i % 2 != 0: filters out only odd numbers.\n",
        "\n",
        "print(i * i) prints the square of those odd numbers."
      ],
      "metadata": {
        "id": "6W7COyQxyX2b"
      }
    },
    {
      "cell_type": "markdown",
      "source": [
        "3.Your monthly expense list (from Jan to May) looks like this"
      ],
      "metadata": {
        "id": "tEkSx-u8tcXL"
      }
    },
    {
      "cell_type": "code",
      "source": [
        "expense_list = [2340, 2500, 2100, 3100, 2980]"
      ],
      "metadata": {
        "id": "HrxT-3-btoda"
      },
      "execution_count": null,
      "outputs": []
    },
    {
      "cell_type": "markdown",
      "source": [
        "Write a program that asks you to enter an expense amount and program should tell you in which month that expense occurred. If expense is not found then it should print that as well."
      ],
      "metadata": {
        "id": "CnkfuqBRtqr6"
      }
    },
    {
      "cell_type": "code",
      "source": [
        "expense_list = [2340, 2500, 2100, 3100, 2980]\n",
        "exp = int(input(\"Enter expense amount: \"))\n",
        "month = [\"Jan\", \"Feb\", \"March\", \"April\", \"May\"]\n",
        "for i in range(len(expense_list)):\n",
        "  if exp == expense_list[i]:\n",
        "    print(f\"Expense {exp} occured in the month of {month[i]}\")"
      ],
      "metadata": {
        "colab": {
          "base_uri": "https://localhost:8080/"
        },
        "id": "-aSg7W-1tvxX",
        "outputId": "36fe994e-3344-41ec-dea8-ef05edf2e64a"
      },
      "execution_count": 7,
      "outputs": [
        {
          "output_type": "stream",
          "name": "stdout",
          "text": [
            "Enter expense amount: 2980\n",
            "Expense 2980 occured in the month of May\n"
          ]
        }
      ]
    },
    {
      "cell_type": "markdown",
      "source": [
        "**Explanation:**\n",
        "input() asks the user to enter an expense amount.\n",
        "\n",
        "for i in range(len(expense_list)) loops through index numbers.\n",
        "\n",
        "If the input expense matches the one in the list, it prints the corresponding month using month[i]."
      ],
      "metadata": {
        "id": "t6tiBcYfyqtj"
      }
    },
    {
      "cell_type": "markdown",
      "source": [],
      "metadata": {
        "id": "oNvFeckAykgH"
      }
    },
    {
      "cell_type": "markdown",
      "source": [
        "4.Lets say you are running a 5 km race. Write a program that,\n",
        "\n",
        "Upon completing each 1 km asks you \"are you tired?\"\n",
        "\n",
        "If you reply \"yes\" then it should break and print \"you didn't finish the race\"\n",
        "\n",
        "If you reply \"no\" then it should continue and ask \"are you tired\" on every km\n",
        "\n",
        "If you finish all 5 km then it should print congratulations message"
      ],
      "metadata": {
        "id": "gHMoeQYiuS41"
      }
    },
    {
      "cell_type": "code",
      "source": [
        "for km in range(1, 6):\n",
        "    print(f\"You have run {km} km.\")\n",
        "    answer = input(\"Are you tired? (yes/no): \").lower()\n",
        "\n",
        "    if answer == \"yes\":\n",
        "        print(\"You didn't finish the race.\")\n",
        "        break\n",
        "else:\n",
        "    print(\"Congratulations! You finished the race 🎉\")"
      ],
      "metadata": {
        "colab": {
          "base_uri": "https://localhost:8080/"
        },
        "id": "DWLkX-6iueRN",
        "outputId": "fff7e362-614b-41a9-86b2-d93de527e163"
      },
      "execution_count": 18,
      "outputs": [
        {
          "output_type": "stream",
          "name": "stdout",
          "text": [
            "You have run 1 km.\n",
            "Are you tired? (yes/no): no\n",
            "You have run 2 km.\n",
            "Are you tired? (yes/no): no\n",
            "You have run 3 km.\n",
            "Are you tired? (yes/no): no\n",
            "You have run 4 km.\n",
            "Are you tired? (yes/no): no\n",
            "You have run 5 km.\n",
            "Are you tired? (yes/no): no\n",
            "Congratulations! You finished the race 🎉\n"
          ]
        }
      ]
    },
    {
      "cell_type": "markdown",
      "source": [
        "**Explanation:**\n",
        "The for loop runs from 1 to 5, simulating each kilometer.\n",
        "\n",
        "At each step, it asks \"Are you tired?\"\n",
        "\n",
        "If the answer is \"yes\", it breaks the loop and prints \"You didn't finish the race.\"\n",
        "\n",
        "If the loop completes all 5 iterations without breaking, the else block runs and prints the congratulations message."
      ],
      "metadata": {
        "id": "mQJlmJcAxBoW"
      }
    },
    {
      "cell_type": "markdown",
      "source": [
        "Write a program that prints following shape"
      ],
      "metadata": {
        "id": "rfjJaje0xTIY"
      }
    },
    {
      "cell_type": "code",
      "source": [
        "*\n",
        "**\n",
        "***\n",
        "****\n",
        "*****"
      ],
      "metadata": {
        "id": "ByLPDazpxXKc"
      },
      "execution_count": null,
      "outputs": []
    },
    {
      "cell_type": "code",
      "source": [
        "for i in range(1,6):\n",
        "  for j in range(i):\n",
        "    print(\"*\", end=\"\")\n",
        "  print()"
      ],
      "metadata": {
        "colab": {
          "base_uri": "https://localhost:8080/"
        },
        "id": "rAQOlaFhxZnj",
        "outputId": "49fe52d8-362c-42e5-9658-bbe59e0b02d5"
      },
      "execution_count": 22,
      "outputs": [
        {
          "output_type": "stream",
          "name": "stdout",
          "text": [
            "*\n",
            "**\n",
            "***\n",
            "****\n",
            "*****\n"
          ]
        }
      ]
    },
    {
      "cell_type": "markdown",
      "source": [
        "**Explanation:**The outer loop (for i in range(1, 6)) runs from 1 to 5.\n",
        "\n",
        "The inner loop (for j in range(i)) prints * i times on each line.\n",
        "\n",
        "end=\"\" keeps the stars on the same line.\n",
        "\n",
        "print() moves to the next line after each row."
      ],
      "metadata": {
        "id": "CkpetbQtx9DQ"
      }
    }
  ]
}