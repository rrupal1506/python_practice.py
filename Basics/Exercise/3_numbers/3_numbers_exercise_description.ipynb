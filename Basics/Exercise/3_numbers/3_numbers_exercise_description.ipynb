{
  "nbformat": 4,
  "nbformat_minor": 0,
  "metadata": {
    "colab": {
      "provenance": []
    },
    "kernelspec": {
      "name": "python3",
      "display_name": "Python 3"
    },
    "language_info": {
      "name": "python"
    }
  },
  "cells": [
    {
      "cell_type": "markdown",
      "source": [
        "# **Exercise: Numbers in python**"
      ],
      "metadata": {
        "id": "nf0ce_by29Mf"
      }
    },
    {
      "cell_type": "markdown",
      "source": [
        "1.You have a football field that is 92 meter long and 48.8 meter wide. Find out total area using python and print it."
      ],
      "metadata": {
        "id": "yv8cHiKZ3B2d"
      }
    },
    {
      "cell_type": "code",
      "source": [
        "length = 92\n",
        "width = 48.8\n",
        "area = length * width\n",
        "print(area)"
      ],
      "metadata": {
        "colab": {
          "base_uri": "https://localhost:8080/"
        },
        "id": "AvakC2Ns3JKy",
        "outputId": "067106e8-cf48-4e21-f808-a5aea422a1a4"
      },
      "execution_count": 1,
      "outputs": [
        {
          "output_type": "stream",
          "name": "stdout",
          "text": [
            "4489.599999999999\n"
          ]
        }
      ]
    },
    {
      "cell_type": "markdown",
      "source": [
        "**Answer**: the area of football field is 4489.599999999999"
      ],
      "metadata": {
        "id": "ahRVT4hc4XJ4"
      }
    },
    {
      "cell_type": "markdown",
      "source": [
        "**Explanation**:\n",
        "\n",
        "We assign the length (92 meters) and width (48.8 meters) to variables.\n",
        "\n",
        "We calculate the area using the rectangle formula:\n",
        "\n",
        "Area\n",
        "=\n",
        "Length\n",
        "×\n",
        "Width\n",
        "Area=Length×Width\n",
        "Finally, we print the result, which is 4489.6 square meters."
      ],
      "metadata": {
        "id": "8VIUscIZ4kvZ"
      }
    },
    {
      "cell_type": "markdown",
      "source": [
        "2.You bought 9 packets of potato chips from a store. Each packet costs 1.49 dollar and you gave shopkeeper 20 dollar. Find out using python, how many dollars is the shopkeeper going to give you back?"
      ],
      "metadata": {
        "id": "BuXq9L7544c9"
      }
    },
    {
      "cell_type": "code",
      "source": [
        "totalPackets = 9\n",
        "eachCost = 1.49\n",
        "gaveShopkeeper = 20\n",
        "return_cost = (gaveShopkeeper - (totalPackets * eachCost))\n",
        "print(return_cost)"
      ],
      "metadata": {
        "colab": {
          "base_uri": "https://localhost:8080/"
        },
        "id": "iDxoyJrr5DPN",
        "outputId": "1a0d68ac-4402-4ac8-960a-19c93886f4d4"
      },
      "execution_count": 3,
      "outputs": [
        {
          "output_type": "stream",
          "name": "stdout",
          "text": [
            "6.59\n"
          ]
        }
      ]
    },
    {
      "cell_type": "markdown",
      "source": [
        "**Explanation:**\n",
        "You bought 9 packets, each costing $1.49:\n",
        "\n",
        "9×1.49=13.41\n",
        "\n",
        "You gave the shopkeeper $20.\n",
        "\n",
        "So, the change you should get back:\n",
        "\n",
        "20−13.41=6.59\n",
        "\n",
        "Answer: The shopkeeper will return $6.59."
      ],
      "metadata": {
        "id": "0XXg5ueG6hNA"
      }
    },
    {
      "cell_type": "markdown",
      "source": [
        "3.You want to replace tiles in your bathroom which is exactly square and 5.5 feet is its length. If tiles cost 500 rs per square feet, how much will be the total cost to replace all tiles. Calculate and print the cost using python (Hint: Use power operator ** to find area of a square)"
      ],
      "metadata": {
        "id": "nRKaAIaf68lU"
      }
    },
    {
      "cell_type": "code",
      "source": [
        "length = 5.5\n",
        "cost_per_square_feet = 500\n",
        "area = length ** 2\n",
        "total_cost = area * cost_per_square_feet\n",
        "print(total_cost)"
      ],
      "metadata": {
        "colab": {
          "base_uri": "https://localhost:8080/"
        },
        "id": "NIVF6w4r7eqE",
        "outputId": "6cc7c4ba-3a11-4796-94bb-ab369c99e51c"
      },
      "execution_count": 4,
      "outputs": [
        {
          "output_type": "stream",
          "name": "stdout",
          "text": [
            "15125.0\n"
          ]
        }
      ]
    },
    {
      "cell_type": "markdown",
      "source": [
        "**Answer:** The total cost to replace all the tiles is ₹15125.0."
      ],
      "metadata": {
        "id": "ojI0kImS8Gb6"
      }
    },
    {
      "cell_type": "markdown",
      "source": [
        "4.Print binary representation of number 17"
      ],
      "metadata": {
        "id": "x8rIHO3487-7"
      }
    },
    {
      "cell_type": "code",
      "source": [
        "print(bin(17))\n"
      ],
      "metadata": {
        "colab": {
          "base_uri": "https://localhost:8080/"
        },
        "id": "VXxgVDMn9Sc0",
        "outputId": "55c53742-cf3e-49ec-bcbf-be1e4368f44f"
      },
      "execution_count": 5,
      "outputs": [
        {
          "output_type": "stream",
          "name": "stdout",
          "text": [
            "0b10001\n"
          ]
        }
      ]
    },
    {
      "cell_type": "markdown",
      "source": [
        "**Explanation:**\n",
        "\n",
        "bin(17) converts the number 17 to binary.\n",
        "\n",
        "The output starts with 0b, which indicates that it's a binary number.\n",
        "\n",
        "So, 17 in binary is: 10001."
      ],
      "metadata": {
        "id": "yAZDDwBH9V9K"
      }
    }
  ]
}