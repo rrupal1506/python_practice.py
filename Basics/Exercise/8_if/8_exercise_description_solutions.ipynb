{
  "nbformat": 4,
  "nbformat_minor": 0,
  "metadata": {
    "colab": {
      "provenance": []
    },
    "kernelspec": {
      "name": "python3",
      "display_name": "Python 3"
    },
    "language_info": {
      "name": "python"
    }
  },
  "cells": [
    {
      "cell_type": "markdown",
      "source": [
        "# **Exercise: Python If Condition**"
      ],
      "metadata": {
        "id": "q1pVkFhYBnRc"
      }
    },
    {
      "cell_type": "markdown",
      "source": [
        "1.Using following list of cities per country"
      ],
      "metadata": {
        "id": "Oj2TygUwBw_Q"
      }
    },
    {
      "cell_type": "code",
      "source": [
        "india = [\"mumbai\", \"banglore\", \"chennai\", \"delhi\"]\n",
        "pakistan = [\"lahore\",\"karachi\",\"islamabad\"]\n",
        "bangladesh = [\"dhaka\", \"khulna\", \"rangpur\"]"
      ],
      "metadata": {
        "id": "g0PoiUhaB3t4"
      },
      "execution_count": null,
      "outputs": []
    },
    {
      "cell_type": "markdown",
      "source": [
        "1.Write a program that asks user to enter a city name and it should tell which country the city belongs to"
      ],
      "metadata": {
        "id": "M9jTVexeCB26"
      }
    },
    {
      "cell_type": "code",
      "execution_count": null,
      "metadata": {
        "colab": {
          "base_uri": "https://localhost:8080/"
        },
        "id": "br2WmrmGBfmB",
        "outputId": "a03180d0-3ab7-4fef-ef86-c199d83848ee"
      },
      "outputs": [
        {
          "output_type": "stream",
          "name": "stdout",
          "text": [
            "Enter the city namemumbai\n",
            "The city belongs to india\n"
          ]
        }
      ],
      "source": [
        "india = [\"mumbai\", \"banglore\", \"chennai\", \"delhi\"]\n",
        "pakistan = [\"lahore\",\"karachi\",\"islamabad\"]\n",
        "bangladesh = [\"dhaka\", \"khulna\", \"rangpur\"]\n",
        "cityName = input(\"Enter the city name\")\n",
        "if cityName in india:\n",
        "  print(\"The city belongs to india\")\n",
        "elif cityName in pakistan:\n",
        "  print(\"The city belongs to pakistan\")\n",
        "elif cityName in bangladesh:\n",
        "  print(\"The city belongs to bangladesh\")\n",
        "else:\n",
        "  print(\"The city does not belong to any country\")"
      ]
    },
    {
      "cell_type": "markdown",
      "source": [
        "**Explanation:**\n",
        "\n",
        "The code uses if-elif-else statements to check the input against three lists.\n",
        "\n",
        "It uses the in keyword to check membership in the list.\n",
        "\n",
        "If the city is found in any of the country lists, it prints the correct message.\n",
        "\n",
        "If not, it prints a default message."
      ],
      "metadata": {
        "id": "qr_-C-cgDOwB"
      }
    },
    {
      "cell_type": "markdown",
      "source": [
        "2.Write a program that asks user to enter two cities and it tells you if they both are in same country or not. For example if I enter mumbai and chennai, it will print \"Both cities are in India\" but if I enter mumbai and dhaka it should print \"They don't belong to same country\""
      ],
      "metadata": {
        "id": "JSC2Eg7JDVFh"
      }
    },
    {
      "cell_type": "code",
      "source": [
        "india = [\"mumbai\", \"banglore\", \"chennai\", \"delhi\"]\n",
        "pakistan = [\"lahore\", \"karachi\", \"islamabad\"]\n",
        "bangladesh = [\"dhaka\", \"khulna\", \"rangpur\"]\n",
        "\n",
        "cityName1 = input(\"Enter the first city name: \")\n",
        "cityName2 = input(\"Enter the second city name: \")\n",
        "\n",
        "if cityName1 in india and cityName2 in india:\n",
        "    print(\"Both cities are in India\")\n",
        "elif cityName1 in pakistan and cityName2 in pakistan:\n",
        "    print(\"Both cities are in Pakistan\")\n",
        "elif cityName1 in bangladesh and cityName2 in bangladesh:\n",
        "    print(\"Both cities are in Bangladesh\")\n",
        "else:\n",
        "    print(\"They don't belong to same country\")"
      ],
      "metadata": {
        "colab": {
          "base_uri": "https://localhost:8080/"
        },
        "id": "JswGKLonDa0z",
        "outputId": "7dbc5558-b711-444a-96d5-2af142c0ff45"
      },
      "execution_count": 8,
      "outputs": [
        {
          "output_type": "stream",
          "name": "stdout",
          "text": [
            "Enter the first city name: banglore\n",
            "Enter the second city name: karachi\n",
            "They don't belong to same country\n"
          ]
        }
      ]
    },
    {
      "cell_type": "markdown",
      "source": [
        "**Explanation:**\n",
        "\n",
        "1.You're taking input for two city names.\n",
        "\n",
        "2.Using and operator to check if both belong to the same country.\n",
        "\n",
        "3.The program prints the country name if both cities are in the same list, otherwise prints the last message."
      ],
      "metadata": {
        "id": "_CVajZ9HFDkl"
      }
    },
    {
      "cell_type": "markdown",
      "source": [
        "2.Write a python program that can tell you if your sugar is normal or not. Normal fasting level sugar range is 80 to 100.\n",
        "\n",
        "1.Ask user to enter his fasting sugar level\n",
        "\n",
        "2.If it is below 80 to 100 range then print that sugar is low\n",
        "\n",
        "3.If it is above 100 then print that it is high otherwise print that it is normal"
      ],
      "metadata": {
        "id": "T08t5chYFM99"
      }
    },
    {
      "cell_type": "code",
      "source": [
        "sugar_level = int(input(\"Enter your fasting sugar level: \"))\n",
        "\n",
        "if sugar_level < 80:\n",
        "    print(\"Your sugar level is LOW\")\n",
        "elif sugar_level > 100:\n",
        "    print(\"Your sugar level is HIGH\")\n",
        "else:\n",
        "    print(\"Your sugar level is NORMAL\")"
      ],
      "metadata": {
        "id": "ufKK772lG4b4",
        "colab": {
          "base_uri": "https://localhost:8080/"
        },
        "outputId": "ef082614-0478-4cb2-adcd-9cb6b03d9703"
      },
      "execution_count": 10,
      "outputs": [
        {
          "output_type": "stream",
          "name": "stdout",
          "text": [
            "Enter your fasting sugar level: 60\n",
            "Your sugar level is LOW\n"
          ]
        }
      ]
    },
    {
      "cell_type": "markdown",
      "source": [
        "**Explanation:**\n",
        "\n",
        "The user is asked to input their sugar level.\n",
        "\n",
        "If it's less than 80, it prints low.\n",
        "\n",
        "If it's greater than 100, it prints high.\n",
        "\n",
        "If it's between 80 and 100 (inclusive), it prints normal."
      ],
      "metadata": {
        "id": "bKUaJrZaHlbv"
      }
    }
  ]
}